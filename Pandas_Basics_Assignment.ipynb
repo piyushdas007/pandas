{
 "cells": [
  {
   "cell_type": "markdown",
   "id": "f36e7fbb-533b-4bce-90d3-a688b680b0de",
   "metadata": {},
   "source": [
    "***Pandas Basics Assignment***"
   ]
  },
  {
   "cell_type": "code",
   "execution_count": 1,
   "id": "6e72a4e0-7674-473d-9ca6-b6a189b6bac5",
   "metadata": {},
   "outputs": [
    {
     "name": "stderr",
     "output_type": "stream",
     "text": [
      "C:\\Users\\ASUS\\AppData\\Local\\Temp\\ipykernel_12092\\4080736814.py:1: DeprecationWarning: \n",
      "Pyarrow will become a required dependency of pandas in the next major release of pandas (pandas 3.0),\n",
      "(to allow more performant data types, such as the Arrow string type, and better interoperability with other libraries)\n",
      "but was not found to be installed on your system.\n",
      "If this would cause problems for you,\n",
      "please provide us feedback at https://github.com/pandas-dev/pandas/issues/54466\n",
      "        \n",
      "  import pandas as pd\n"
     ]
    }
   ],
   "source": [
    "import pandas as pd"
   ]
  },
  {
   "cell_type": "markdown",
   "id": "0be3b213-c3a0-422c-bece-972b3d8e4b08",
   "metadata": {},
   "source": [
    "Q1. Create a Pandas Series that contains the following data: 4, 8, 15, 16, 23, and 42. Then, print the series."
   ]
  },
  {
   "cell_type": "code",
   "execution_count": 5,
   "id": "f0d602a4-a0ba-45f0-8ae2-a2e6689d42c1",
   "metadata": {},
   "outputs": [
    {
     "data": {
      "text/plain": [
       "0     4\n",
       "1     8\n",
       "2    15\n",
       "3    16\n",
       "4    23\n",
       "5    42\n",
       "dtype: int64"
      ]
     },
     "execution_count": 5,
     "metadata": {},
     "output_type": "execute_result"
    }
   ],
   "source": [
    "s1 = pd.Series([4, 8, 15, 16, 23, 42])\n",
    "s1"
   ]
  },
  {
   "cell_type": "code",
   "execution_count": null,
   "id": "ec0b498e-3642-4637-9e09-0d0155098469",
   "metadata": {},
   "outputs": [],
   "source": []
  },
  {
   "cell_type": "markdown",
   "id": "6ed12cad-ee8d-4e68-9b95-7d882e142da6",
   "metadata": {},
   "source": [
    "Q2. Create a variable of list type containing 10 elements in it, and apply pandas.Series function on the \n",
    "variable print it."
   ]
  },
  {
   "cell_type": "code",
   "execution_count": 6,
   "id": "ebde3654-8e29-4d4f-a883-6a41e70c5da2",
   "metadata": {},
   "outputs": [
    {
     "data": {
      "text/plain": [
       "0         Dog\n",
       "1         Cat\n",
       "2         Cow\n",
       "3    Elephant\n",
       "4      Donkey\n",
       "5       Tiger\n",
       "6        Lion\n",
       "7        Bear\n",
       "8       Horse\n",
       "9       Zebra\n",
       "dtype: object"
      ]
     },
     "execution_count": 6,
     "metadata": {},
     "output_type": "execute_result"
    }
   ],
   "source": [
    "list = ['Dog','Cat','Cow','Elephant','Donkey','Tiger','Lion','Bear','Horse','Zebra']\n",
    "s2 = pd.Series(list)\n",
    "s2"
   ]
  },
  {
   "cell_type": "code",
   "execution_count": null,
   "id": "a62dd525-bb68-4904-9e6f-3dbedef494c2",
   "metadata": {},
   "outputs": [],
   "source": []
  },
  {
   "cell_type": "markdown",
   "id": "d5e19ff6-52d4-499d-81d6-e106fab64d1a",
   "metadata": {},
   "source": [
    "Q3. Create a Pandas DataFrame that contains the following data:\n",
    "\n",
    "Then, print the DataFrame."
   ]
  },
  {
   "cell_type": "code",
   "execution_count": 10,
   "id": "d43a8082-65d5-44a1-a361-95e4edd89d51",
   "metadata": {},
   "outputs": [
    {
     "data": {
      "text/html": [
       "<div>\n",
       "<style scoped>\n",
       "    .dataframe tbody tr th:only-of-type {\n",
       "        vertical-align: middle;\n",
       "    }\n",
       "\n",
       "    .dataframe tbody tr th {\n",
       "        vertical-align: top;\n",
       "    }\n",
       "\n",
       "    .dataframe thead th {\n",
       "        text-align: right;\n",
       "    }\n",
       "</style>\n",
       "<table border=\"1\" class=\"dataframe\">\n",
       "  <thead>\n",
       "    <tr style=\"text-align: right;\">\n",
       "      <th></th>\n",
       "      <th>Name</th>\n",
       "      <th>Age</th>\n",
       "      <th>Gender</th>\n",
       "    </tr>\n",
       "  </thead>\n",
       "  <tbody>\n",
       "    <tr>\n",
       "      <th>0</th>\n",
       "      <td>Alice</td>\n",
       "      <td>25</td>\n",
       "      <td>Female</td>\n",
       "    </tr>\n",
       "    <tr>\n",
       "      <th>1</th>\n",
       "      <td>Bob</td>\n",
       "      <td>30</td>\n",
       "      <td>Male</td>\n",
       "    </tr>\n",
       "    <tr>\n",
       "      <th>2</th>\n",
       "      <td>Claire</td>\n",
       "      <td>27</td>\n",
       "      <td>Female</td>\n",
       "    </tr>\n",
       "  </tbody>\n",
       "</table>\n",
       "</div>"
      ],
      "text/plain": [
       "     Name  Age  Gender\n",
       "0   Alice   25  Female\n",
       "1     Bob   30    Male\n",
       "2  Claire   27  Female"
      ]
     },
     "execution_count": 10,
     "metadata": {},
     "output_type": "execute_result"
    }
   ],
   "source": [
    "dict = {\n",
    "    'Name' : ['Alice','Bob','Claire'],\n",
    "    'Age' : [25,30,27],\n",
    "    'Gender' : ['Female','Male','Female']\n",
    "}\n",
    "\n",
    "dict\n",
    "\n",
    "df1 = pd.DataFrame(dict)\n",
    "df1"
   ]
  },
  {
   "cell_type": "code",
   "execution_count": null,
   "id": "530affce-9b72-4e0b-bdbf-c5102a471800",
   "metadata": {},
   "outputs": [],
   "source": []
  },
  {
   "cell_type": "markdown",
   "id": "b007e280-44b9-453f-b954-cc6e96b273ff",
   "metadata": {},
   "source": [
    "Q4. What is ‘DataFrame’ in pandas and how is it different from pandas.series? Explain with an example."
   ]
  },
  {
   "cell_type": "code",
   "execution_count": null,
   "id": "474bd607-cdd4-4812-a2f6-4136e626fb40",
   "metadata": {},
   "outputs": [],
   "source": [
    "'''In Pandas DataFrame is a two dimensional, tabular data structure that is capable of holding data of different data types.\n",
    "It is similar to spreadsheet or SQL table where data is stored in rows and columns. Each column in a DataFrame is a Pandas \n",
    "Series, entire Dataframe is thought of a cantainer for multiple Series Object.\n",
    "\n",
    "On the other hand, Series is a one dimensional array capable of holding any datatype. It is essentially single column of a \n",
    "DataFrame\n",
    "'''"
   ]
  },
  {
   "cell_type": "code",
   "execution_count": 14,
   "id": "701f957d-02ef-481e-af97-4eaa1c3d6824",
   "metadata": {},
   "outputs": [
    {
     "name": "stdout",
     "output_type": "stream",
     "text": [
      "0     Alice\n",
      "1       Bob\n",
      "2    Claire\n",
      "dtype: object\n",
      "     Name  Age  Gender\n",
      "0   Alice   25  Female\n",
      "1     Bob   30    Male\n",
      "2  Claire   27  Female\n"
     ]
    }
   ],
   "source": [
    "## Example\n",
    "\n",
    "# Creating a Pandas Series\n",
    "s = pd.Series(['Alice','Bob','Claire'])\n",
    "\n",
    "# Creating a Pandas DataFrame with Dictionary\n",
    "dict = {\n",
    "    'Name' : ['Alice','Bob','Claire'],\n",
    "    'Age' : [25,30,27],\n",
    "    'Gender' : ['Female','Male','Female']\n",
    "}\n",
    "df = pd.DataFrame(dict)\n",
    "\n",
    "\n",
    "# Printing Series and DataFrame\n",
    "print(s)\n",
    "print(df)"
   ]
  },
  {
   "cell_type": "code",
   "execution_count": null,
   "id": "2676048c-09d5-43f9-bec3-684ab6285ba9",
   "metadata": {},
   "outputs": [],
   "source": []
  },
  {
   "cell_type": "markdown",
   "id": "95883e3c-8691-4fb1-a83d-1ed6c6d40569",
   "metadata": {},
   "source": [
    "Q5. What are some common functions you can use to manipulate data in a Pandas DataFrame? Can \n",
    "you give an example of when you might use one of these functions?"
   ]
  },
  {
   "cell_type": "code",
   "execution_count": null,
   "id": "6f0f8e53-8548-4254-a82c-f715cfb6b2a0",
   "metadata": {},
   "outputs": [],
   "source": [
    "# head() : return first 'n' rows of the dataframe\n",
    "df.head(3)\n",
    "\n",
    "# tail() : return last 'n' rows of the dataframe\n",
    "df.tail(3)"
   ]
  },
  {
   "cell_type": "code",
   "execution_count": null,
   "id": "6c605587-e566-49ea-a327-b74b0128a0d2",
   "metadata": {},
   "outputs": [],
   "source": [
    "# info() : provides summary of the dataframe about data types, non-null values and memory usage\n",
    "df.info()"
   ]
  },
  {
   "cell_type": "code",
   "execution_count": null,
   "id": "6e966fa8-b95d-4fe1-8844-0cdd10ec99b3",
   "metadata": {},
   "outputs": [],
   "source": [
    "# discribe() : Generates Discriptive statistics(mean,median,mode,std,var)\n",
    "df.discribe()"
   ]
  },
  {
   "cell_type": "code",
   "execution_count": null,
   "id": "f863b1a2-3776-459e-b74a-a47094b8834e",
   "metadata": {},
   "outputs": [],
   "source": [
    "# shape() : gives number of rows and columns\n",
    "df.shape()"
   ]
  },
  {
   "cell_type": "code",
   "execution_count": null,
   "id": "f0d47cfb-6220-4435-a850-3b988f5558ed",
   "metadata": {},
   "outputs": [],
   "source": [
    "# drop() : removes specific row or a column\n",
    "df.drop(column='age')"
   ]
  },
  {
   "cell_type": "code",
   "execution_count": null,
   "id": "ec104d06-5686-44bd-8403-712bd3b02002",
   "metadata": {},
   "outputs": [],
   "source": []
  },
  {
   "cell_type": "markdown",
   "id": "5e31eeef-921a-4475-9d58-b8fc2095bb66",
   "metadata": {},
   "source": [
    "Q6. Create a DataFrame using multiple Series. Explain with an example.\n"
   ]
  },
  {
   "cell_type": "code",
   "execution_count": 17,
   "id": "d3f8d7cb-dc72-4c31-93e9-a2200a511f71",
   "metadata": {},
   "outputs": [
    {
     "data": {
      "text/html": [
       "<div>\n",
       "<style scoped>\n",
       "    .dataframe tbody tr th:only-of-type {\n",
       "        vertical-align: middle;\n",
       "    }\n",
       "\n",
       "    .dataframe tbody tr th {\n",
       "        vertical-align: top;\n",
       "    }\n",
       "\n",
       "    .dataframe thead th {\n",
       "        text-align: right;\n",
       "    }\n",
       "</style>\n",
       "<table border=\"1\" class=\"dataframe\">\n",
       "  <thead>\n",
       "    <tr style=\"text-align: right;\">\n",
       "      <th></th>\n",
       "      <th>name</th>\n",
       "      <th>age</th>\n",
       "      <th>city</th>\n",
       "    </tr>\n",
       "  </thead>\n",
       "  <tbody>\n",
       "    <tr>\n",
       "      <th>0</th>\n",
       "      <td>John</td>\n",
       "      <td>25</td>\n",
       "      <td>Mumbai</td>\n",
       "    </tr>\n",
       "    <tr>\n",
       "      <th>1</th>\n",
       "      <td>Jack</td>\n",
       "      <td>26</td>\n",
       "      <td>Pune</td>\n",
       "    </tr>\n",
       "    <tr>\n",
       "      <th>2</th>\n",
       "      <td>Joe</td>\n",
       "      <td>27</td>\n",
       "      <td>Nagpur</td>\n",
       "    </tr>\n",
       "  </tbody>\n",
       "</table>\n",
       "</div>"
      ],
      "text/plain": [
       "   name  age    city\n",
       "0  John   25  Mumbai\n",
       "1  Jack   26    Pune\n",
       "2   Joe   27  Nagpur"
      ]
     },
     "execution_count": 17,
     "metadata": {},
     "output_type": "execute_result"
    }
   ],
   "source": [
    "# Creating multiple Series\n",
    "name_series = ['John','Jack','Joe']\n",
    "age_series = [25,26,27]\n",
    "city_series = ['Mumbai','Pune','Nagpur']\n",
    "\n",
    "# combaining series into dictionary\n",
    "dict = {\n",
    "    'name' : name_series,\n",
    "    'age' : age_series,\n",
    "    'city' : city_series\n",
    "}\n",
    "\n",
    "# creating dataframe from dictionary\n",
    "df = pd.DataFrame(dict)\n",
    "df"
   ]
  }
 ],
 "metadata": {
  "kernelspec": {
   "display_name": "Python 3 (ipykernel)",
   "language": "python",
   "name": "python3"
  },
  "language_info": {
   "codemirror_mode": {
    "name": "ipython",
    "version": 3
   },
   "file_extension": ".py",
   "mimetype": "text/x-python",
   "name": "python",
   "nbconvert_exporter": "python",
   "pygments_lexer": "ipython3",
   "version": "3.11.4"
  }
 },
 "nbformat": 4,
 "nbformat_minor": 5
}
